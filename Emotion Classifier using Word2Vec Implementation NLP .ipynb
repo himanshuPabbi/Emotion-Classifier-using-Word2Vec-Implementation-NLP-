{
 "cells": [
  {
   "cell_type": "code",
   "execution_count": 1,
   "id": "5ebb8e0c",
   "metadata": {},
   "outputs": [],
   "source": [
    "import numpy as np # linear algebra\n",
    "import pandas as pd # data processing, CSV file I/O (e.g. pd.read_csv)\n",
    "\n",
    "import re\n",
    "import gensim"
   ]
  },
  {
   "cell_type": "code",
   "execution_count": 2,
   "id": "0f8e8798",
   "metadata": {},
   "outputs": [],
   "source": [
    "df=pd.read_csv(\"Emotion_classify_Data.csv\")"
   ]
  },
  {
   "cell_type": "code",
   "execution_count": 3,
   "id": "93ab08f8",
   "metadata": {},
   "outputs": [
    {
     "data": {
      "text/html": [
       "<div>\n",
       "<style scoped>\n",
       "    .dataframe tbody tr th:only-of-type {\n",
       "        vertical-align: middle;\n",
       "    }\n",
       "\n",
       "    .dataframe tbody tr th {\n",
       "        vertical-align: top;\n",
       "    }\n",
       "\n",
       "    .dataframe thead th {\n",
       "        text-align: right;\n",
       "    }\n",
       "</style>\n",
       "<table border=\"1\" class=\"dataframe\">\n",
       "  <thead>\n",
       "    <tr style=\"text-align: right;\">\n",
       "      <th></th>\n",
       "      <th>Comment</th>\n",
       "      <th>Emotion</th>\n",
       "    </tr>\n",
       "  </thead>\n",
       "  <tbody>\n",
       "    <tr>\n",
       "      <th>0</th>\n",
       "      <td>i seriously hate one subject to death but now ...</td>\n",
       "      <td>fear</td>\n",
       "    </tr>\n",
       "    <tr>\n",
       "      <th>1</th>\n",
       "      <td>im so full of life i feel appalled</td>\n",
       "      <td>anger</td>\n",
       "    </tr>\n",
       "    <tr>\n",
       "      <th>2</th>\n",
       "      <td>i sit here to write i start to dig out my feel...</td>\n",
       "      <td>fear</td>\n",
       "    </tr>\n",
       "    <tr>\n",
       "      <th>3</th>\n",
       "      <td>ive been really angry with r and i feel like a...</td>\n",
       "      <td>joy</td>\n",
       "    </tr>\n",
       "    <tr>\n",
       "      <th>4</th>\n",
       "      <td>i feel suspicious if there is no one outside l...</td>\n",
       "      <td>fear</td>\n",
       "    </tr>\n",
       "    <tr>\n",
       "      <th>...</th>\n",
       "      <td>...</td>\n",
       "      <td>...</td>\n",
       "    </tr>\n",
       "    <tr>\n",
       "      <th>5932</th>\n",
       "      <td>i begun to feel distressed for you</td>\n",
       "      <td>fear</td>\n",
       "    </tr>\n",
       "    <tr>\n",
       "      <th>5933</th>\n",
       "      <td>i left feeling annoyed and angry thinking that...</td>\n",
       "      <td>anger</td>\n",
       "    </tr>\n",
       "    <tr>\n",
       "      <th>5934</th>\n",
       "      <td>i were to ever get married i d have everything...</td>\n",
       "      <td>joy</td>\n",
       "    </tr>\n",
       "    <tr>\n",
       "      <th>5935</th>\n",
       "      <td>i feel reluctant in applying there because i w...</td>\n",
       "      <td>fear</td>\n",
       "    </tr>\n",
       "    <tr>\n",
       "      <th>5936</th>\n",
       "      <td>i just wanted to apologize to you because i fe...</td>\n",
       "      <td>anger</td>\n",
       "    </tr>\n",
       "  </tbody>\n",
       "</table>\n",
       "<p>5937 rows × 2 columns</p>\n",
       "</div>"
      ],
      "text/plain": [
       "                                                Comment Emotion\n",
       "0     i seriously hate one subject to death but now ...    fear\n",
       "1                    im so full of life i feel appalled   anger\n",
       "2     i sit here to write i start to dig out my feel...    fear\n",
       "3     ive been really angry with r and i feel like a...     joy\n",
       "4     i feel suspicious if there is no one outside l...    fear\n",
       "...                                                 ...     ...\n",
       "5932                 i begun to feel distressed for you    fear\n",
       "5933  i left feeling annoyed and angry thinking that...   anger\n",
       "5934  i were to ever get married i d have everything...     joy\n",
       "5935  i feel reluctant in applying there because i w...    fear\n",
       "5936  i just wanted to apologize to you because i fe...   anger\n",
       "\n",
       "[5937 rows x 2 columns]"
      ]
     },
     "execution_count": 3,
     "metadata": {},
     "output_type": "execute_result"
    }
   ],
   "source": [
    "df"
   ]
  },
  {
   "cell_type": "code",
   "execution_count": 4,
   "id": "7c01a98d",
   "metadata": {},
   "outputs": [],
   "source": [
    "df['preprocessed text'] = df['Comment'].apply(gensim.utils.simple_preprocess)"
   ]
  },
  {
   "cell_type": "code",
   "execution_count": 6,
   "id": "9c5c9974",
   "metadata": {},
   "outputs": [
    {
     "data": {
      "text/html": [
       "<div>\n",
       "<style scoped>\n",
       "    .dataframe tbody tr th:only-of-type {\n",
       "        vertical-align: middle;\n",
       "    }\n",
       "\n",
       "    .dataframe tbody tr th {\n",
       "        vertical-align: top;\n",
       "    }\n",
       "\n",
       "    .dataframe thead th {\n",
       "        text-align: right;\n",
       "    }\n",
       "</style>\n",
       "<table border=\"1\" class=\"dataframe\">\n",
       "  <thead>\n",
       "    <tr style=\"text-align: right;\">\n",
       "      <th></th>\n",
       "      <th>Comment</th>\n",
       "      <th>Emotion</th>\n",
       "      <th>preprocessed text</th>\n",
       "    </tr>\n",
       "  </thead>\n",
       "  <tbody>\n",
       "    <tr>\n",
       "      <th>0</th>\n",
       "      <td>i seriously hate one subject to death but now ...</td>\n",
       "      <td>fear</td>\n",
       "      <td>[seriously, hate, one, subject, to, death, but...</td>\n",
       "    </tr>\n",
       "    <tr>\n",
       "      <th>1</th>\n",
       "      <td>im so full of life i feel appalled</td>\n",
       "      <td>anger</td>\n",
       "      <td>[im, so, full, of, life, feel, appalled]</td>\n",
       "    </tr>\n",
       "    <tr>\n",
       "      <th>2</th>\n",
       "      <td>i sit here to write i start to dig out my feel...</td>\n",
       "      <td>fear</td>\n",
       "      <td>[sit, here, to, write, start, to, dig, out, my...</td>\n",
       "    </tr>\n",
       "    <tr>\n",
       "      <th>3</th>\n",
       "      <td>ive been really angry with r and i feel like a...</td>\n",
       "      <td>joy</td>\n",
       "      <td>[ive, been, really, angry, with, and, feel, li...</td>\n",
       "    </tr>\n",
       "    <tr>\n",
       "      <th>4</th>\n",
       "      <td>i feel suspicious if there is no one outside l...</td>\n",
       "      <td>fear</td>\n",
       "      <td>[feel, suspicious, if, there, is, no, one, out...</td>\n",
       "    </tr>\n",
       "  </tbody>\n",
       "</table>\n",
       "</div>"
      ],
      "text/plain": [
       "                                             Comment Emotion  \\\n",
       "0  i seriously hate one subject to death but now ...    fear   \n",
       "1                 im so full of life i feel appalled   anger   \n",
       "2  i sit here to write i start to dig out my feel...    fear   \n",
       "3  ive been really angry with r and i feel like a...     joy   \n",
       "4  i feel suspicious if there is no one outside l...    fear   \n",
       "\n",
       "                                   preprocessed text  \n",
       "0  [seriously, hate, one, subject, to, death, but...  \n",
       "1           [im, so, full, of, life, feel, appalled]  \n",
       "2  [sit, here, to, write, start, to, dig, out, my...  \n",
       "3  [ive, been, really, angry, with, and, feel, li...  \n",
       "4  [feel, suspicious, if, there, is, no, one, out...  "
      ]
     },
     "execution_count": 6,
     "metadata": {},
     "output_type": "execute_result"
    }
   ],
   "source": [
    "df.head()"
   ]
  },
  {
   "cell_type": "code",
   "execution_count": 7,
   "id": "e667e6e3",
   "metadata": {},
   "outputs": [],
   "source": [
    "model = gensim.models.Word2Vec(\n",
    "    window = 5, # The number of words to train on before and after the word\n",
    "    min_count = 3,  # The minimum words in a sentence\n",
    ")"
   ]
  },
  {
   "cell_type": "code",
   "execution_count": 8,
   "id": "a1122f66",
   "metadata": {},
   "outputs": [],
   "source": [
    "model.build_vocab(df['preprocessed text'], progress_per = 1000,)\n"
   ]
  },
  {
   "cell_type": "code",
   "execution_count": 9,
   "id": "a0bc19ba",
   "metadata": {},
   "outputs": [
    {
     "data": {
      "text/plain": [
       "5"
      ]
     },
     "execution_count": 9,
     "metadata": {},
     "output_type": "execute_result"
    }
   ],
   "source": [
    "model.epochs"
   ]
  },
  {
   "cell_type": "code",
   "execution_count": 10,
   "id": "7241aef8",
   "metadata": {},
   "outputs": [
    {
     "data": {
      "text/plain": [
       "(2642218, 4061480)"
      ]
     },
     "execution_count": 10,
     "metadata": {},
     "output_type": "execute_result"
    }
   ],
   "source": [
    "model.train(df['preprocessed text'], total_examples = model.corpus_count, epochs = model.epochs*8)"
   ]
  },
  {
   "cell_type": "code",
   "execution_count": 11,
   "id": "d6b07f67",
   "metadata": {},
   "outputs": [
    {
     "data": {
      "text/plain": [
       "[('badly', 0.6620486974716187),\n",
       " ('considerate', 0.5991336703300476),\n",
       " ('bitch', 0.5881110429763794),\n",
       " ('despised', 0.5849111080169678),\n",
       " ('sad', 0.5726248621940613),\n",
       " ('guess', 0.5723276138305664),\n",
       " ('hurt', 0.5636640787124634),\n",
       " ('guilty', 0.5627250075340271),\n",
       " ('mean', 0.5625526309013367),\n",
       " ('petty', 0.560764729976654)]"
      ]
     },
     "execution_count": 11,
     "metadata": {},
     "output_type": "execute_result"
    }
   ],
   "source": [
    "model.wv.most_similar(\"hate\")"
   ]
  },
  {
   "cell_type": "code",
   "execution_count": 12,
   "id": "1ebac57a",
   "metadata": {},
   "outputs": [
    {
     "data": {
      "text/plain": [
       "[('supporting', 0.6542301177978516),\n",
       " ('trusting', 0.5428385734558105),\n",
       " ('trust', 0.5281537771224976),\n",
       " ('meet', 0.5186700224876404),\n",
       " ('hated', 0.5178905129432678),\n",
       " ('gorgeous', 0.5114046335220337),\n",
       " ('feedback', 0.5098891854286194),\n",
       " ('beautiful', 0.49770113825798035),\n",
       " ('eyes', 0.4928118586540222),\n",
       " ('respected', 0.49018436670303345)]"
      ]
     },
     "execution_count": 12,
     "metadata": {},
     "output_type": "execute_result"
    }
   ],
   "source": [
    "model.wv.most_similar(\"love\")"
   ]
  },
  {
   "cell_type": "code",
   "execution_count": 13,
   "id": "336ae189",
   "metadata": {},
   "outputs": [
    {
     "data": {
      "text/plain": [
       "[('expected', 0.5782842636108398),\n",
       " ('honoured', 0.5542764663696289),\n",
       " ('successful', 0.5501561760902405),\n",
       " ('unkind', 0.5385537147521973),\n",
       " ('cared', 0.532119631767273),\n",
       " ('lively', 0.5239191651344299),\n",
       " ('snobbish', 0.5134609937667847),\n",
       " ('blessed', 0.5121363997459412),\n",
       " ('innocent', 0.512053906917572),\n",
       " ('respected', 0.5030817985534668)]"
      ]
     },
     "execution_count": 13,
     "metadata": {},
     "output_type": "execute_result"
    }
   ],
   "source": [
    "model.wv.most_similar(\"strong\")"
   ]
  },
  {
   "cell_type": "code",
   "execution_count": 14,
   "id": "b40314aa",
   "metadata": {},
   "outputs": [
    {
     "data": {
      "text/plain": [
       "[('body', 0.5313955545425415),\n",
       " ('progress', 0.5136067867279053),\n",
       " ('mind', 0.511449933052063),\n",
       " ('decision', 0.49507638812065125),\n",
       " ('job', 0.48737409710884094),\n",
       " ('own', 0.48513561487197876),\n",
       " ('brain', 0.4830597937107086),\n",
       " ('journal', 0.4757980406284332),\n",
       " ('issue', 0.4674549102783203),\n",
       " ('career', 0.4597510099411011)]"
      ]
     },
     "execution_count": 14,
     "metadata": {},
     "output_type": "execute_result"
    }
   ],
   "source": [
    "model.wv.most_similar(\"life\")"
   ]
  },
  {
   "cell_type": "code",
   "execution_count": 15,
   "id": "4661079c",
   "metadata": {},
   "outputs": [
    {
     "data": {
      "text/plain": [
       "-0.21135843"
      ]
     },
     "execution_count": 15,
     "metadata": {},
     "output_type": "execute_result"
    }
   ],
   "source": [
    "model.wv.similarity(w1 = 'sad', w2 = 'joy')"
   ]
  },
  {
   "cell_type": "code",
   "execution_count": 16,
   "id": "00bdb75a",
   "metadata": {},
   "outputs": [
    {
     "data": {
      "text/plain": [
       "0.6856053"
      ]
     },
     "execution_count": 16,
     "metadata": {},
     "output_type": "execute_result"
    }
   ],
   "source": [
    "model.wv.similarity(w1 = 'depressed', w2 = 'sad')"
   ]
  },
  {
   "cell_type": "code",
   "execution_count": 17,
   "id": "7543e46c",
   "metadata": {},
   "outputs": [
    {
     "data": {
      "text/plain": [
       "0.22550958"
      ]
     },
     "execution_count": 17,
     "metadata": {},
     "output_type": "execute_result"
    }
   ],
   "source": [
    "model.wv.similarity(w1 = 'married', w2 = 'happy')"
   ]
  },
  {
   "cell_type": "code",
   "execution_count": null,
   "id": "7265f5c8",
   "metadata": {},
   "outputs": [],
   "source": []
  }
 ],
 "metadata": {
  "kernelspec": {
   "display_name": "Python 3 (ipykernel)",
   "language": "python",
   "name": "python3"
  },
  "language_info": {
   "codemirror_mode": {
    "name": "ipython",
    "version": 3
   },
   "file_extension": ".py",
   "mimetype": "text/x-python",
   "name": "python",
   "nbconvert_exporter": "python",
   "pygments_lexer": "ipython3",
   "version": "3.9.12"
  }
 },
 "nbformat": 4,
 "nbformat_minor": 5
}
